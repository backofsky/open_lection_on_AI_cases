{
  "nbformat": 4,
  "nbformat_minor": 0,
  "metadata": {
    "colab": {
      "provenance": []
    },
    "kernelspec": {
      "name": "python3",
      "display_name": "Python 3"
    },
    "language_info": {
      "name": "python"
    }
  },
  "cells": [
    {
      "cell_type": "code",
      "execution_count": 1,
      "metadata": {
        "id": "CX7FmM5bzJ0B"
      },
      "outputs": [],
      "source": [
        "#импорт библиотек\n",
        "import numpy as np #подключаем numpy для матричных вычислений"
      ]
    },
    {
      "cell_type": "code",
      "source": [
        "class NeuralNetwork(): #создаем класс Нейросети\n",
        "  def __init__(self, weights = [0.36, 0.24, 0.22, 0.18], bias=0): #конструктор с параметрами по умолчанию\n",
        "    weights.append(1) #добавляем коэффициент 1 для смещения\n",
        "    self.weights = np.array(weights) #преобразуем список весов в numpy массив\n",
        "    self.bias = bias #задаем смещение по конструктору\n",
        "    self.inputs = np.array([0,0,0,0,0]) #входы по умолчанию нулевые\n",
        "    self.hmin = 1/(1+np.exp(0-self.bias)) #коэффициент для нормализации 1\n",
        "    self.hmax = 1/(1+np.exp(-1-self.bias)) #коэффициент для нормализации 2\n",
        "  def set_inputs(self): #метод подачи данных на вход\n",
        "    print('Ответьте на вопросы по стажировке (оцените условия по шкале от 0 до 1)' ) #приветствие\n",
        "    x1 = float(input('Повышение зарплаты? ')) #вход1\n",
        "    x2 = float(input('Новые знания? ')) #вход2\n",
        "    x3 = float(input('Полезные связи? ')) #вход3\n",
        "    x4 = float(input('Практические навыки? ')) #вход4\n",
        "    self.inputs = np.array([x1,x2,x3,x4,self.bias]) #задание полученных входов и смещения\n",
        "  def forward(self): #метод расчета выхода\n",
        "    self.z = self.inputs @ self.weights #матричное умножение входов и весов\n",
        "    print('Выход скрытого слоя до активации:', round(self.z,3)) #выход сумматора\n",
        "    self.h = 1/(1+np.exp(-self.z)) #активация выхода\n",
        "    print('Выход скрытого слоя после активации:', round(self.h,3)) #результат активации\n",
        "  def normalize(self): #метод нормализации (расчета вероятности)\n",
        "    self.p = (self.h - self.hmin)/(self.hmax - self.hmin) #переводим в интервал [0,1]\n",
        "    print('Вероятность соответствия:', round(self.p,3)) #вывод вероятности"
      ],
      "metadata": {
        "id": "PkQ6OEm2zc_h"
      },
      "execution_count": 2,
      "outputs": []
    },
    {
      "cell_type": "code",
      "source": [
        "nn = NeuralNetwork() #создаем объект класса, нашу нейросеть"
      ],
      "metadata": {
        "id": "--mUKydSzoqS"
      },
      "execution_count": 3,
      "outputs": []
    },
    {
      "cell_type": "code",
      "source": [
        "nn.set_inputs() #получаем у пользователя входные данные"
      ],
      "metadata": {
        "colab": {
          "base_uri": "https://localhost:8080/"
        },
        "id": "tIEwMhqL5qWW",
        "outputId": "465b7ba9-b1aa-465e-8a0c-bdcfb0a23c7e"
      },
      "execution_count": 4,
      "outputs": [
        {
          "name": "stdout",
          "output_type": "stream",
          "text": [
            "Ответьте на вопросы по стажировке (оцените условия по шкале от 0 до 1)\n",
            "Повышение зарплаты? 0.36\n",
            "Новые знания? 0.8\n",
            "Полезные связи? 0.41\n",
            "Практические навыки? 0.97\n"
          ]
        }
      ]
    },
    {
      "cell_type": "code",
      "source": [
        "nn.forward() #расчитываем выход сети"
      ],
      "metadata": {
        "colab": {
          "base_uri": "https://localhost:8080/"
        },
        "id": "c74Byrb65utu",
        "outputId": "f59b880d-ec82-4044-a84d-d107ccee7733"
      },
      "execution_count": 5,
      "outputs": [
        {
          "output_type": "stream",
          "name": "stdout",
          "text": [
            "Выход скрытого слоя до активации: 0.586\n",
            "Выход скрытого слоя после активации: 0.643\n"
          ]
        }
      ]
    },
    {
      "cell_type": "code",
      "source": [
        "nn.normalize() #рассчитываем вероятность соответствия"
      ],
      "metadata": {
        "colab": {
          "base_uri": "https://localhost:8080/"
        },
        "id": "c95w62E78F5p",
        "outputId": "b85b57ad-e631-42af-87ff-5235fef1a4cf"
      },
      "execution_count": 6,
      "outputs": [
        {
          "output_type": "stream",
          "name": "stdout",
          "text": [
            "Вероятность соответствия: 0.617\n"
          ]
        }
      ]
    },
    {
      "cell_type": "markdown",
      "source": [
        "##Кейс №2"
      ],
      "metadata": {
        "id": "t0pEJ3smRgtw"
      }
    },
    {
      "cell_type": "markdown",
      "source": [
        "Ваше задание сделать так, чтобы нейронная сеть могла делать свой прогноз на основе не 4, а 10 параметров. При этом можно провести собственный опрос для оценки весов, а можно выбрать параметры и весовые коэффициенты, представленные в файле **case2.csv**\t\t\t\t\t\t"
      ],
      "metadata": {
        "id": "-y0bHo3XRifD"
      }
    }
  ]
}